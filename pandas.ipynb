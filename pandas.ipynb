{
 "cells": [
  {
   "cell_type": "markdown",
   "metadata": {},
   "source": [
    "# Pandas Queries and Functions\n",
    "\n",
    "This notebook covers basic, intermediate, and advanced queries and functions in Pandas, along with common interview questions."
   ]
  },
  {
   "cell_type": "markdown",
   "metadata": {},
   "source": [
    "## Basic Pandas Queries and Functions\n",
    "\n",
    "Pandas is a powerful data manipulation library in Python. Here are some fundamental queries and functions essential for beginners:\n",
    "\n",
    "- **Creating a DataFrame**:\n",
    "```python\n",
    "import pandas as pd\n",
    "data = {'Name': ['John', 'Alice', 'Bob'], 'Age': [28, 24, 30]}\n",
    "df = pd.DataFrame(data)\n",
    "```\n",
    "\n",
    "- **Accessing Data**:\n",
    "  - Retrieve the first few rows: `df.head()`\n",
    "  - Access specific columns: `df['Name']`\n",
    "\n",
    "- **Filtering Data**:\n",
    "  - Using boolean indexing:\n",
    "  ```python\n",
    "  filtered_df = df[df['Age'] > 25]\n",
    "  ```\n",
    "\n",
    "- **Handling Missing Values**:\n",
    "  - Drop rows with missing values: `df.dropna()`\n",
    "  - Fill missing values: `df.fillna(value=0)`"
   ]
  },
  {
   "cell_type": "markdown",
   "metadata": {},
   "source": [
    "## Intermediate Pandas Queries and Functions\n",
    "\n",
    "As you progress, you can utilize more complex operations:\n",
    "\n",
    "- **Merging DataFrames**:\n",
    "```python\n",
    "df1 = pd.DataFrame({'key': ['A', 'B'], 'value': [1, 2]})\n",
    "df2 = pd.DataFrame({'key': ['A', 'B'], 'value': [3, 4]})\n",
    "merged_df = pd.merge(df1, df2, on='key')\n",
    "```\n",
    "\n",
    "- **Group By Operations**:\n",
    "```python\n",
    "grouped = df.groupby('Age').mean()\n",
    "```\n",
    "\n",
    "- **Sorting Data**:\n",
    "```python\n",
    "sorted_df = df.sort_values(by='Age', ascending=False)\n",
    "```\n",
    "\n",
    "- **Applying Functions**:\n",
    "```python\n",
    "df['Age'] = df['Age'].apply(lambda x: x + 1)\n",
    "```"
   ]
  },
  {
   "cell_type": "markdown",
   "metadata": {},
   "source": [
    "## Advanced Pandas Queries and Functions\n",
    "\n",
    "For advanced users, Pandas offers sophisticated functionalities:\n",
    "\n",
    "- **Pivot Tables**:\n",
    "```python\n",
    "pivot_table = df.pivot_table(values='value', index='key', aggfunc='sum')\n",
    "```\n",
    "\n",
    "- **MultiIndex DataFrames**:\n",
    "\n", 
	"Creating a MultiIndex DataFrame allows for more complex data structures.\n", 
	"\n", 
	"- **Time Series Analysis**:\n", 
	"```python\n", 
	"date_range = pd.date_range(start='1/1/2020', periods=100)\n", 
	"time_series_df = pd.DataFrame(data={'date': date_range, 'value': np.random.randn(100)})\n", 
	"```\n", 
	"\n", 
	"- **Custom Aggregation Functions**:\n", 
	"You can define custom aggregation functions to apply during group operations.\n", 
	"```python\n", 
	"def custom_agg(x):\n", 
	" return x.max() - x.min()\n", 
	"\n", 
	"result = df.groupby('Category').agg(custom_agg)\n", 
	"```"
   ]
  },
  {
   "cell_type": "markdown",
   "metadata": {},
   "source": [
     "# Common Interview Questions\n", 
     "\n", 
     "- **What is the difference between `merge` and `join`?**\n", 
     "`merge` allows joining on columns, while `join` is primarily based on indices.\n", 
     "\n", 
     "- **How do you handle missing data in a DataFrame?**\n", 
     "`dropna()` or `fillna()` can be used to manage missing values.\n", 
     "\n", 
     "- **Explain the use of the `groupby` function.**\n", 
     "`groupby` is used to split the data into groups based on some criteria and perform operations on these groups.\n", 
     "\n", 
     "- **How can you filter a DataFrame using the query method?**\n", 
     "`filtered_df = df.query(\"Age > 25\")`\n", 
     "\n", 
     "- **What are some common aggregation functions you can use with groupby?**\n", 
     "`mean()`, `sum()`, `count()`, and custom functions can be applied."
   ]
  }
 ],
 "metadata": {
  "_cell_guid_map": {
   }
 },
 "nbformat": 4,
 "nbformat_minor": 4
}
